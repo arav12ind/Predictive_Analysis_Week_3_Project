{
 "cells": [
  {
   "cell_type": "code",
   "execution_count": 1,
   "id": "closed-guyana",
   "metadata": {},
   "outputs": [],
   "source": [
    "import numpy as np\n",
    "import pandas as pd\n",
    "from sklearn.datasets import load_breast_cancer\n",
    "import seaborn as sns \n",
    "import matplotlib.pyplot as plt \n",
    "from scipy import stats\n",
    "from sklearn.decomposition import PCA\n",
    "from sklearn.model_selection import train_test_split,KFold\n",
    "from sklearn.tree import DecisionTreeClassifier\n",
    "from sklearn import metrics\n",
    "from sklearn.ensemble import GradientBoostingClassifier\n",
    "from sklearn.metrics import classification_report\n",
    "from sklearn.preprocessing import StandardScaler, Normalizer, scale\n",
    "from sklearn.ensemble import RandomForestClassifier, AdaBoostClassifier, GradientBoostingClassifier, ExtraTreesClassifier\n",
    "from sklearn.svm import SVC, LinearSVC\n",
    "from sklearn.metrics import confusion_matrix, log_loss, auc, roc_curve, roc_auc_score, recall_score, precision_recall_curve\n",
    "from sklearn.metrics import classification_report\n",
    "from sklearn.model_selection import cross_val_score, train_test_split, KFold, StratifiedShuffleSplit, GridSearchCV\n",
    "from sklearn.linear_model import LogisticRegression\n",
    "from sklearn.neighbors import KNeighborsClassifier\n",
    "%matplotlib inline"
   ]
  },
  {
   "cell_type": "markdown",
   "id": "corporate-butter",
   "metadata": {},
   "source": [
    "# Load data"
   ]
  },
  {
   "cell_type": "code",
   "execution_count": 2,
   "id": "continuing-corps",
   "metadata": {},
   "outputs": [
    {
     "data": {
      "text/plain": [
       "(569, 30)"
      ]
     },
     "execution_count": 2,
     "metadata": {},
     "output_type": "execute_result"
    }
   ],
   "source": [
    "df= pd.DataFrame(load_breast_cancer()['data'],\n",
    "columns=load_breast_cancer()['feature_names'])\n",
    "y=pd.DataFrame(load_breast_cancer()['target'])\n",
    "df.shape"
   ]
  },
  {
   "cell_type": "markdown",
   "id": "champion-ranking",
   "metadata": {},
   "source": [
    "# Reduce dimensionality using PCA"
   ]
  },
  {
   "cell_type": "code",
   "execution_count": 3,
   "id": "acknowledged-pharmaceutical",
   "metadata": {},
   "outputs": [
    {
     "name": "stdout",
     "output_type": "stream",
     "text": [
      "0.9999878765363126\n"
     ]
    }
   ],
   "source": [
    "pca = PCA(n_components=5, svd_solver='full')\n",
    "pca.fit(df)\n",
    "print(pca.explained_variance_ratio_.sum())\n",
    "df=pd.DataFrame(pca.transform(df))"
   ]
  },
  {
   "cell_type": "markdown",
   "id": "representative-style",
   "metadata": {},
   "source": [
    "# Normalize Data"
   ]
  },
  {
   "cell_type": "code",
   "execution_count": 4,
   "id": "eleven-memorial",
   "metadata": {},
   "outputs": [],
   "source": [
    "transformer = Normalizer().fit(df)\n",
    "df=pd.DataFrame(transformer.transform(df))"
   ]
  },
  {
   "cell_type": "markdown",
   "id": "liberal-agreement",
   "metadata": {},
   "source": [
    "# Split data into test and train sets"
   ]
  },
  {
   "cell_type": "code",
   "execution_count": 5,
   "id": "decent-vatican",
   "metadata": {},
   "outputs": [],
   "source": [
    "train, test = train_test_split(pd.concat([df,y],axis=1), test_size=0.33, random_state=42)"
   ]
  },
  {
   "cell_type": "markdown",
   "id": "tracked-logging",
   "metadata": {},
   "source": [
    "# Remove outliners"
   ]
  },
  {
   "cell_type": "code",
   "execution_count": 6,
   "id": "unsigned-franchise",
   "metadata": {},
   "outputs": [
    {
     "data": {
      "text/plain": [
       "<AxesSubplot:>"
      ]
     },
     "execution_count": 6,
     "metadata": {},
     "output_type": "execute_result"
    },
    {
     "data": {
      "image/png": "[encoded data removed]",
      "text/plain": [
       "<Figure size 432x288 with 1 Axes>"
      ]
     },
     "metadata": {
      "needs_background": "light"
     },
     "output_type": "display_data"
    }
   ],
   "source": [
    "train.boxplot()"
   ]
  },
  {
   "cell_type": "code",
   "execution_count": 7,
   "id": "humanitarian-cream",
   "metadata": {
    "scrolled": false
   },
   "outputs": [],
   "source": [
    "Q1=train.quantile(0.25)\n",
    "Q3=train.quantile(0.75)\n",
    "IQR=1.5*(Q3-Q1)\n",
    "train=train[(train >= Q1 -IQR) \n",
    "               & (train <= Q3 +IQR)].dropna(axis=0).reset_index(drop=True)"
   ]
  },
  {
   "cell_type": "code",
   "execution_count": 8,
   "id": "later-comedy",
   "metadata": {},
   "outputs": [],
   "source": [
    "x_train=train.iloc[:,:-1]\n",
    "y_train=train.iloc[:,-1]\n",
    "x_test=test.iloc[:,:-1]\n",
    "y_test=test.iloc[:,-1]"
   ]
  },
  {
   "cell_type": "code",
   "execution_count": 9,
   "id": "optical-bishop",
   "metadata": {},
   "outputs": [
    {
     "data": {
      "text/plain": [
       "<AxesSubplot:>"
      ]
     },
     "execution_count": 9,
     "metadata": {},
     "output_type": "execute_result"
    },
    {
     "data": {
      "image/png": "[encoded data removed]",
      "text/plain": [
       "<Figure size 432x288 with 1 Axes>"
      ]
     },
     "metadata": {
      "needs_background": "light"
     },
     "output_type": "display_data"
    }
   ],
   "source": [
    "x_train.boxplot()"
   ]
  },
  {
   "cell_type": "markdown",
   "id": "tough-executive",
   "metadata": {},
   "source": [
    "# Decision tree classifier"
   ]
  },
  {
   "cell_type": "code",
   "execution_count": 10,
   "id": "twelve-trunk",
   "metadata": {},
   "outputs": [],
   "source": [
    "import itertools\n",
    "def product_dict(**kwargs):\n",
    "    keys = kwargs.keys()\n",
    "    vals = kwargs.values()\n",
    "    for instance in itertools.product(*vals):\n",
    "        yield dict(zip(keys, instance))\n",
    "params=list(product_dict(**{'criterion':[\"gini\",\"entropy\"],'max_depth':[10,20,50,100],'min_samples_leaf':[10,20,50]}))"
   ]
  },
  {
   "cell_type": "code",
   "execution_count": 11,
   "id": "unlike-finance",
   "metadata": {},
   "outputs": [
    {
     "name": "stdout",
     "output_type": "stream",
     "text": [
      "gini 10 10  Accuracy: 0.9627659574468085\n",
      "gini 10 20  Accuracy: 0.9468085106382979\n",
      "gini 10 50  Accuracy: 0.9468085106382979\n",
      "gini 20 10  Accuracy: 0.9627659574468085\n",
      "gini 20 20  Accuracy: 0.9468085106382979\n",
      "gini 20 50  Accuracy: 0.9468085106382979\n",
      "gini 50 10  Accuracy: 0.9627659574468085\n",
      "gini 50 20  Accuracy: 0.9468085106382979\n",
      "gini 50 50  Accuracy: 0.9468085106382979\n",
      "gini 100 10  Accuracy: 0.9627659574468085\n",
      "gini 100 20  Accuracy: 0.9468085106382979\n",
      "gini 100 50  Accuracy: 0.9468085106382979\n",
      "entropy 10 10  Accuracy: 0.9627659574468085\n",
      "entropy 10 20  Accuracy: 0.9468085106382979\n",
      "entropy 10 50  Accuracy: 0.9468085106382979\n",
      "entropy 20 10  Accuracy: 0.9627659574468085\n",
      "entropy 20 20  Accuracy: 0.9468085106382979\n",
      "entropy 20 50  Accuracy: 0.9468085106382979\n",
      "entropy 50 10  Accuracy: 0.9627659574468085\n",
      "entropy 50 20  Accuracy: 0.9468085106382979\n",
      "entropy 50 50  Accuracy: 0.9468085106382979\n",
      "entropy 100 10  Accuracy: 0.9627659574468085\n",
      "entropy 100 20  Accuracy: 0.9468085106382979\n",
      "entropy 100 50  Accuracy: 0.9468085106382979\n"
     ]
    }
   ],
   "source": [
    "for par in params:\n",
    "    clf = DecisionTreeClassifier(**par)\n",
    "    clf = clf.fit(x_train,y_train)\n",
    "    y_pred = clf.predict(x_test)\n",
    "    ls=clf.get_params()\n",
    "    print(ls['criterion'],ls['max_depth'],ls['min_samples_leaf'],\" Accuracy:\",metrics.accuracy_score(y_test, y_pred))"
   ]
  },
  {
   "cell_type": "markdown",
   "id": "defined-barbados",
   "metadata": {},
   "source": [
    "# Gradient Booster Classifier"
   ]
  },
  {
   "cell_type": "code",
   "execution_count": 12,
   "id": "valuable-cutting",
   "metadata": {},
   "outputs": [],
   "source": [
    "gbc = GradientBoostingClassifier()"
   ]
  },
  {
   "cell_type": "code",
   "execution_count": 13,
   "id": "front-prize",
   "metadata": {},
   "outputs": [
    {
     "name": "stdout",
     "output_type": "stream",
     "text": [
      "              precision    recall  f1-score   support\n",
      "\n",
      "           0       0.96      0.96      0.96        67\n",
      "           1       0.98      0.98      0.98       121\n",
      "\n",
      "    accuracy                           0.97       188\n",
      "   macro avg       0.97      0.97      0.97       188\n",
      "weighted avg       0.97      0.97      0.97       188\n",
      "\n"
     ]
    }
   ],
   "source": [
    "gbc.fit(x_train,y_train)\n",
    "print(classification_report(y_test,gbc.predict(x_test)))"
   ]
  },
  {
   "cell_type": "code",
   "execution_count": 14,
   "id": "sharp-cement",
   "metadata": {},
   "outputs": [],
   "source": [
    "rf_tuned_parameters={\"max_depth\": [10, 20, 50, 100],\n",
    "                                     'n_estimators': [50, 100, 200, 500],\n",
    "                                     'min_samples_leaf': [10, 20, 50],\n",
    "                                     'learning_rate': [0.1, 0.01]}"
   ]
  },
  {
   "cell_type": "code",
   "execution_count": 15,
   "id": "fossil-puppy",
   "metadata": {},
   "outputs": [
    {
     "name": "stdout",
     "output_type": "stream",
     "text": [
      "Fitting 5 folds for each of 96 candidates, totalling 480 fits\n",
      "[CV 1/5] END learning_rate=0.1, max_depth=10, min_samples_leaf=10, n_estimators=50; total time=   0.1s\n",
      "[CV 2/5] END learning_rate=0.1, max_depth=10, min_samples_leaf=10, n_estimators=50; total time=   0.1s\n",
      "[CV 3/5] END learning_rate=0.1, max_depth=10, min_samples_leaf=10, n_estimators=50; total time=   0.1s\n",
      "[CV 4/5] END learning_rate=0.1, max_depth=10, min_samples_leaf=10, n_estimators=50; total time=   0.1s\n",
      "[CV 5/5] END learning_rate=0.1, max_depth=10, min_samples_leaf=10, n_estimators=50; total time=   0.1s\n",
      "[CV 1/5] END learning_rate=0.1, max_depth=10, min_samples_leaf=10, n_estimators=100; total time=   0.1s\n",
      "[CV 2/5] END learning_rate=0.1, max_depth=10, min_samples_leaf=10, n_estimators=100; total time=   0.1s\n",
      "[CV 3/5] END learning_rate=0.1, max_depth=10, min_samples_leaf=10, n_estimators=100; total time=   0.1s\n",
      "[CV 4/5] END learning_rate=0.1, max_depth=10, min_samples_leaf=10, n_estimators=100; total time=   0.1s\n",
      "[CV 5/5] END learning_rate=0.1, max_depth=10, min_samples_leaf=10, n_estimators=100; total time=   0.1s\n",
      "[CV 1/5] END learning_rate=0.1, max_depth=10, min_samples_leaf=10, n_estimators=200; total time=   0.2s\n",
      "[CV 2/5] END learning_rate=0.1, max_depth=10, min_samples_leaf=10, n_estimators=200; total time=   0.2s\n",
      "[CV 3/5] END learning_rate=0.1, max_depth=10, min_samples_leaf=10, n_estimators=200; total time=   0.3s\n",
      "[CV 4/5] END learning_rate=0.1, max_depth=10, min_samples_leaf=10, n_estimators=200; total time=   0.2s\n",
      "[CV 5/5] END learning_rate=0.1, max_depth=10, min_samples_leaf=10, n_estimators=200; total time=   0.2s\n",
      "[CV 1/5] END learning_rate=0.1, max_depth=10, min_samples_leaf=10, n_estimators=500; total time=   0.6s\n",
      "[CV 2/5] END learning_rate=0.1, max_depth=10, min_samples_leaf=10, n_estimators=500; total time=   0.6s\n",
      "[CV 3/5] END learning_rate=0.1, max_depth=10, min_samples_leaf=10, n_estimators=500; total time=   0.6s\n",
      "[CV 4/5] END learning_rate=0.1, max_depth=10, min_samples_leaf=10, n_estimators=500; total time=   0.5s\n",
      "[CV 5/5] END learning_rate=0.1, max_depth=10, min_samples_leaf=10, n_estimators=500; total time=   0.5s\n",
      "[CV 1/5] END learning_rate=0.1, max_depth=10, min_samples_leaf=20, n_estimators=50; total time=   0.0s\n",
      "[CV 2/5] END learning_rate=0.1, max_depth=10, min_samples_leaf=20, n_estimators=50; total time=   0.0s\n",
      "[CV 3/5] END learning_rate=0.1, max_depth=10, min_samples_leaf=20, n_estimators=50; total time=   0.0s\n",
      "[CV 4/5] END learning_rate=0.1, max_depth=10, min_samples_leaf=20, n_estimators=50; total time=   0.0s\n",
      "[CV 5/5] END learning_rate=0.1, max_depth=10, min_samples_leaf=20, n_estimators=50; total time=   0.0s\n",
      "[CV 1/5] END learning_rate=0.1, max_depth=10, min_samples_leaf=20, n_estimators=100; total time=   0.1s\n",
      "[CV 2/5] END learning_rate=0.1, max_depth=10, min_samples_leaf=20, n_estimators=100; total time=   0.1s\n",
      "[CV 3/5] END learning_rate=0.1, max_depth=10, min_samples_leaf=20, n_estimators=100; total time=   0.1s\n",
      "[CV 4/5] END learning_rate=0.1, max_depth=10, min_samples_leaf=20, n_estimators=100; total time=   0.1s\n",
      "[CV 5/5] END learning_rate=0.1, max_depth=10, min_samples_leaf=20, n_estimators=100; total time=   0.1s\n",
      "[CV 1/5] END learning_rate=0.1, max_depth=10, min_samples_leaf=20, n_estimators=200; total time=   0.2s\n",
      "[CV 2/5] END learning_rate=0.1, max_depth=10, min_samples_leaf=20, n_estimators=200; total time=   0.2s\n",
      "[CV 3/5] END learning_rate=0.1, max_depth=10, min_samples_leaf=20, n_estimators=200; total time=   0.2s\n",
      "[CV 4/5] END learning_rate=0.1, max_depth=10, min_samples_leaf=20, n_estimators=200; total time=   0.2s\n",
      "[CV 5/5] END learning_rate=0.1, max_depth=10, min_samples_leaf=20, n_estimators=200; total time=   0.2s\n",
      "[CV 1/5] END learning_rate=0.1, max_depth=10, min_samples_leaf=20, n_estimators=500; total time=   0.4s\n",
      "[CV 2/5] END learning_rate=0.1, max_depth=10, min_samples_leaf=20, n_estimators=500; total time=   0.4s\n",
      "[CV 3/5] END learning_rate=0.1, max_depth=10, min_samples_leaf=20, n_estimators=500; total time=   0.4s\n",
      "[CV 4/5] END learning_rate=0.1, max_depth=10, min_samples_leaf=20, n_estimators=500; total time=   0.4s\n",
      "[CV 5/5] END learning_rate=0.1, max_depth=10, min_samples_leaf=20, n_estimators=500; total time=   0.4s\n",
      "[CV 1/5] END learning_rate=0.1, max_depth=10, min_samples_leaf=50, n_estimators=50; total time=   0.0s\n",
      "[CV 2/5] END learning_rate=0.1, max_depth=10, min_samples_leaf=50, n_estimators=50; total time=   0.0s\n",
      "[CV 3/5] END learning_rate=0.1, max_depth=10, min_samples_leaf=50, n_estimators=50; total time=   0.0s\n",
      "[CV 4/5] END learning_rate=0.1, max_depth=10, min_samples_leaf=50, n_estimators=50; total time=   0.0s\n",
      "[CV 5/5] END learning_rate=0.1, max_depth=10, min_samples_leaf=50, n_estimators=50; total time=   0.0s\n",
      "[CV 1/5] END learning_rate=0.1, max_depth=10, min_samples_leaf=50, n_estimators=100; total time=   0.1s\n",
      "[CV 2/5] END learning_rate=0.1, max_depth=10, min_samples_leaf=50, n_estimators=100; total time=   0.1s\n",
      "[CV 3/5] END learning_rate=0.1, max_depth=10, min_samples_leaf=50, n_estimators=100; total time=   0.1s\n",
      "[CV 4/5] END learning_rate=0.1, max_depth=10, min_samples_leaf=50, n_estimators=100; total time=   0.1s\n",
      "[CV 5/5] END learning_rate=0.1, max_depth=10, min_samples_leaf=50, n_estimators=100; total time=   0.1s\n",
      "[CV 1/5] END learning_rate=0.1, max_depth=10, min_samples_leaf=50, n_estimators=200; total time=   0.1s\n",
      "[CV 2/5] END learning_rate=0.1, max_depth=10, min_samples_leaf=50, n_estimators=200; total time=   0.1s\n",
      "[CV 3/5] END learning_rate=0.1, max_depth=10, min_samples_leaf=50, n_estimators=200; total time=   0.1s\n",
      "[CV 4/5] END learning_rate=0.1, max_depth=10, min_samples_leaf=50, n_estimators=200; total time=   0.1s\n",
      "[CV 5/5] END learning_rate=0.1, max_depth=10, min_samples_leaf=50, n_estimators=200; total time=   0.1s\n",
      "[CV 1/5] END learning_rate=0.1, max_depth=10, min_samples_leaf=50, n_estimators=500; total time=   0.3s\n",
      "[CV 2/5] END learning_rate=0.1, max_depth=10, min_samples_leaf=50, n_estimators=500; total time=   0.2s\n",
      "[CV 3/5] END learning_rate=0.1, max_depth=10, min_samples_leaf=50, n_estimators=500; total time=   0.2s\n",
      "[CV 4/5] END learning_rate=0.1, max_depth=10, min_samples_leaf=50, n_estimators=500; total time=   0.2s\n",
      "[CV 5/5] END learning_rate=0.1, max_depth=10, min_samples_leaf=50, n_estimators=500; total time=   0.2s\n",
      "[CV 1/5] END learning_rate=0.1, max_depth=20, min_samples_leaf=10, n_estimators=50; total time=   0.1s\n",
      "[CV 2/5] END learning_rate=0.1, max_depth=20, min_samples_leaf=10, n_estimators=50; total time=   0.1s\n",
      "[CV 3/5] END learning_rate=0.1, max_depth=20, min_samples_leaf=10, n_estimators=50; total time=   0.1s\n",
      "[CV 4/5] END learning_rate=0.1, max_depth=20, min_samples_leaf=10, n_estimators=50; total time=   0.1s\n",
      "[CV 5/5] END learning_rate=0.1, max_depth=20, min_samples_leaf=10, n_estimators=50; total time=   0.1s\n",
      "[CV 1/5] END learning_rate=0.1, max_depth=20, min_samples_leaf=10, n_estimators=100; total time=   0.1s\n",
      "[CV 2/5] END learning_rate=0.1, max_depth=20, min_samples_leaf=10, n_estimators=100; total time=   0.1s\n",
      "[CV 3/5] END learning_rate=0.1, max_depth=20, min_samples_leaf=10, n_estimators=100; total time=   0.1s\n",
      "[CV 4/5] END learning_rate=0.1, max_depth=20, min_samples_leaf=10, n_estimators=100; total time=   0.1s\n",
      "[CV 5/5] END learning_rate=0.1, max_depth=20, min_samples_leaf=10, n_estimators=100; total time=   0.1s\n",
      "[CV 1/5] END learning_rate=0.1, max_depth=20, min_samples_leaf=10, n_estimators=200; total time=   0.2s\n",
      "[CV 2/5] END learning_rate=0.1, max_depth=20, min_samples_leaf=10, n_estimators=200; total time=   0.2s\n",
      "[CV 3/5] END learning_rate=0.1, max_depth=20, min_samples_leaf=10, n_estimators=200; total time=   0.2s\n",
      "[CV 4/5] END learning_rate=0.1, max_depth=20, min_samples_leaf=10, n_estimators=200; total time=   0.2s\n",
      "[CV 5/5] END learning_rate=0.1, max_depth=20, min_samples_leaf=10, n_estimators=200; total time=   0.2s\n",
      "[CV 1/5] END learning_rate=0.1, max_depth=20, min_samples_leaf=10, n_estimators=500; total time=   0.6s\n",
      "[CV 2/5] END learning_rate=0.1, max_depth=20, min_samples_leaf=10, n_estimators=500; total time=   0.6s\n",
      "[CV 3/5] END learning_rate=0.1, max_depth=20, min_samples_leaf=10, n_estimators=500; total time=   0.6s\n",
      "[CV 4/5] END learning_rate=0.1, max_depth=20, min_samples_leaf=10, n_estimators=500; total time=   0.6s\n"
     ]
    },
    {
     "name": "stdout",
     "output_type": "stream",
     "text": [
      "[CV 5/5] END learning_rate=0.1, max_depth=20, min_samples_leaf=10, n_estimators=500; total time=   0.7s\n",
      "[CV 1/5] END learning_rate=0.1, max_depth=20, min_samples_leaf=20, n_estimators=50; total time=   0.0s\n",
      "[CV 2/5] END learning_rate=0.1, max_depth=20, min_samples_leaf=20, n_estimators=50; total time=   0.0s\n",
      "[CV 3/5] END learning_rate=0.1, max_depth=20, min_samples_leaf=20, n_estimators=50; total time=   0.0s\n",
      "[CV 4/5] END learning_rate=0.1, max_depth=20, min_samples_leaf=20, n_estimators=50; total time=   0.0s\n",
      "[CV 5/5] END learning_rate=0.1, max_depth=20, min_samples_leaf=20, n_estimators=50; total time=   0.0s\n",
      "[CV 1/5] END learning_rate=0.1, max_depth=20, min_samples_leaf=20, n_estimators=100; total time=   0.1s\n",
      "[CV 2/5] END learning_rate=0.1, max_depth=20, min_samples_leaf=20, n_estimators=100; total time=   0.1s\n",
      "[CV 3/5] END learning_rate=0.1, max_depth=20, min_samples_leaf=20, n_estimators=100; total time=   0.1s\n",
      "[CV 4/5] END learning_rate=0.1, max_depth=20, min_samples_leaf=20, n_estimators=100; total time=   0.1s\n",
      "[CV 5/5] END learning_rate=0.1, max_depth=20, min_samples_leaf=20, n_estimators=100; total time=   0.1s\n",
      "[CV 1/5] END learning_rate=0.1, max_depth=20, min_samples_leaf=20, n_estimators=200; total time=   0.2s\n",
      "[CV 2/5] END learning_rate=0.1, max_depth=20, min_samples_leaf=20, n_estimators=200; total time=   0.2s\n",
      "[CV 3/5] END learning_rate=0.1, max_depth=20, min_samples_leaf=20, n_estimators=200; total time=   0.2s\n",
      "[CV 4/5] END learning_rate=0.1, max_depth=20, min_samples_leaf=20, n_estimators=200; total time=   0.2s\n",
      "[CV 5/5] END learning_rate=0.1, max_depth=20, min_samples_leaf=20, n_estimators=200; total time=   0.2s\n",
      "[CV 1/5] END learning_rate=0.1, max_depth=20, min_samples_leaf=20, n_estimators=500; total time=   0.4s\n",
      "[CV 2/5] END learning_rate=0.1, max_depth=20, min_samples_leaf=20, n_estimators=500; total time=   0.4s\n",
      "[CV 3/5] END learning_rate=0.1, max_depth=20, min_samples_leaf=20, n_estimators=500; total time=   0.4s\n",
      "[CV 4/5] END learning_rate=0.1, max_depth=20, min_samples_leaf=20, n_estimators=500; total time=   0.4s\n",
      "[CV 5/5] END learning_rate=0.1, max_depth=20, min_samples_leaf=20, n_estimators=500; total time=   0.4s\n",
      "[CV 1/5] END learning_rate=0.1, max_depth=20, min_samples_leaf=50, n_estimators=50; total time=   0.0s\n",
      "[CV 2/5] END learning_rate=0.1, max_depth=20, min_samples_leaf=50, n_estimators=50; total time=   0.0s\n",
      "[CV 3/5] END learning_rate=0.1, max_depth=20, min_samples_leaf=50, n_estimators=50; total time=   0.0s\n",
      "[CV 4/5] END learning_rate=0.1, max_depth=20, min_samples_leaf=50, n_estimators=50; total time=   0.0s\n",
      "[CV 5/5] END learning_rate=0.1, max_depth=20, min_samples_leaf=50, n_estimators=50; total time=   0.0s\n",
      "[CV 1/5] END learning_rate=0.1, max_depth=20, min_samples_leaf=50, n_estimators=100; total time=   0.1s\n",
      "[CV 2/5] END learning_rate=0.1, max_depth=20, min_samples_leaf=50, n_estimators=100; total time=   0.1s\n",
      "[CV 3/5] END learning_rate=0.1, max_depth=20, min_samples_leaf=50, n_estimators=100; total time=   0.1s\n",
      "[CV 4/5] END learning_rate=0.1, max_depth=20, min_samples_leaf=50, n_estimators=100; total time=   0.1s\n",
      "[CV 5/5] END learning_rate=0.1, max_depth=20, min_samples_leaf=50, n_estimators=100; total time=   0.1s\n",
      "[CV 1/5] END learning_rate=0.1, max_depth=20, min_samples_leaf=50, n_estimators=200; total time=   0.1s\n",
      "[CV 2/5] END learning_rate=0.1, max_depth=20, min_samples_leaf=50, n_estimators=200; total time=   0.1s\n",
      "[CV 3/5] END learning_rate=0.1, max_depth=20, min_samples_leaf=50, n_estimators=200; total time=   0.1s\n",
      "[CV 4/5] END learning_rate=0.1, max_depth=20, min_samples_leaf=50, n_estimators=200; total time=   0.1s\n",
      "[CV 5/5] END learning_rate=0.1, max_depth=20, min_samples_leaf=50, n_estimators=200; total time=   0.1s\n",
      "[CV 1/5] END learning_rate=0.1, max_depth=20, min_samples_leaf=50, n_estimators=500; total time=   0.3s\n",
      "[CV 2/5] END learning_rate=0.1, max_depth=20, min_samples_leaf=50, n_estimators=500; total time=   0.2s\n",
      "[CV 3/5] END learning_rate=0.1, max_depth=20, min_samples_leaf=50, n_estimators=500; total time=   0.2s\n",
      "[CV 4/5] END learning_rate=0.1, max_depth=20, min_samples_leaf=50, n_estimators=500; total time=   0.2s\n",
      "[CV 5/5] END learning_rate=0.1, max_depth=20, min_samples_leaf=50, n_estimators=500; total time=   0.2s\n",
      "[CV 1/5] END learning_rate=0.1, max_depth=50, min_samples_leaf=10, n_estimators=50; total time=   0.1s\n",
      "[CV 2/5] END learning_rate=0.1, max_depth=50, min_samples_leaf=10, n_estimators=50; total time=   0.1s\n",
      "[CV 3/5] END learning_rate=0.1, max_depth=50, min_samples_leaf=10, n_estimators=50; total time=   0.1s\n",
      "[CV 4/5] END learning_rate=0.1, max_depth=50, min_samples_leaf=10, n_estimators=50; total time=   0.1s\n",
      "[CV 5/5] END learning_rate=0.1, max_depth=50, min_samples_leaf=10, n_estimators=50; total time=   0.1s\n",
      "[CV 1/5] END learning_rate=0.1, max_depth=50, min_samples_leaf=10, n_estimators=100; total time=   0.1s\n",
      "[CV 2/5] END learning_rate=0.1, max_depth=50, min_samples_leaf=10, n_estimators=100; total time=   0.1s\n",
      "[CV 3/5] END learning_rate=0.1, max_depth=50, min_samples_leaf=10, n_estimators=100; total time=   0.1s\n",
      "[CV 4/5] END learning_rate=0.1, max_depth=50, min_samples_leaf=10, n_estimators=100; total time=   0.1s\n",
      "[CV 5/5] END learning_rate=0.1, max_depth=50, min_samples_leaf=10, n_estimators=100; total time=   0.1s\n",
      "[CV 1/5] END learning_rate=0.1, max_depth=50, min_samples_leaf=10, n_estimators=200; total time=   0.2s\n",
      "[CV 2/5] END learning_rate=0.1, max_depth=50, min_samples_leaf=10, n_estimators=200; total time=   0.2s\n",
      "[CV 3/5] END learning_rate=0.1, max_depth=50, min_samples_leaf=10, n_estimators=200; total time=   0.2s\n",
      "[CV 4/5] END learning_rate=0.1, max_depth=50, min_samples_leaf=10, n_estimators=200; total time=   0.2s\n",
      "[CV 5/5] END learning_rate=0.1, max_depth=50, min_samples_leaf=10, n_estimators=200; total time=   0.2s\n",
      "[CV 1/5] END learning_rate=0.1, max_depth=50, min_samples_leaf=10, n_estimators=500; total time=   0.7s\n",
      "[CV 2/5] END learning_rate=0.1, max_depth=50, min_samples_leaf=10, n_estimators=500; total time=   0.6s\n",
      "[CV 3/5] END learning_rate=0.1, max_depth=50, min_samples_leaf=10, n_estimators=500; total time=   0.6s\n",
      "[CV 4/5] END learning_rate=0.1, max_depth=50, min_samples_leaf=10, n_estimators=500; total time=   0.6s\n",
      "[CV 5/5] END learning_rate=0.1, max_depth=50, min_samples_leaf=10, n_estimators=500; total time=   0.6s\n",
      "[CV 1/5] END learning_rate=0.1, max_depth=50, min_samples_leaf=20, n_estimators=50; total time=   0.0s\n",
      "[CV 2/5] END learning_rate=0.1, max_depth=50, min_samples_leaf=20, n_estimators=50; total time=   0.0s\n",
      "[CV 3/5] END learning_rate=0.1, max_depth=50, min_samples_leaf=20, n_estimators=50; total time=   0.0s\n",
      "[CV 4/5] END learning_rate=0.1, max_depth=50, min_samples_leaf=20, n_estimators=50; total time=   0.0s\n",
      "[CV 5/5] END learning_rate=0.1, max_depth=50, min_samples_leaf=20, n_estimators=50; total time=   0.0s\n",
      "[CV 1/5] END learning_rate=0.1, max_depth=50, min_samples_leaf=20, n_estimators=100; total time=   0.1s\n",
      "[CV 2/5] END learning_rate=0.1, max_depth=50, min_samples_leaf=20, n_estimators=100; total time=   0.1s\n",
      "[CV 3/5] END learning_rate=0.1, max_depth=50, min_samples_leaf=20, n_estimators=100; total time=   0.1s\n",
      "[CV 4/5] END learning_rate=0.1, max_depth=50, min_samples_leaf=20, n_estimators=100; total time=   0.1s\n",
      "[CV 5/5] END learning_rate=0.1, max_depth=50, min_samples_leaf=20, n_estimators=100; total time=   0.1s\n",
      "[CV 1/5] END learning_rate=0.1, max_depth=50, min_samples_leaf=20, n_estimators=200; total time=   0.2s\n",
      "[CV 2/5] END learning_rate=0.1, max_depth=50, min_samples_leaf=20, n_estimators=200; total time=   0.2s\n",
      "[CV 3/5] END learning_rate=0.1, max_depth=50, min_samples_leaf=20, n_estimators=200; total time=   0.2s\n",
      "[CV 4/5] END learning_rate=0.1, max_depth=50, min_samples_leaf=20, n_estimators=200; total time=   0.2s\n",
      "[CV 5/5] END learning_rate=0.1, max_depth=50, min_samples_leaf=20, n_estimators=200; total time=   0.2s\n",
      "[CV 1/5] END learning_rate=0.1, max_depth=50, min_samples_leaf=20, n_estimators=500; total time=   0.4s\n",
      "[CV 2/5] END learning_rate=0.1, max_depth=50, min_samples_leaf=20, n_estimators=500; total time=   0.4s\n",
      "[CV 3/5] END learning_rate=0.1, max_depth=50, min_samples_leaf=20, n_estimators=500; total time=   0.4s\n"
     ]
    },
    {
     "name": "stdout",
     "output_type": "stream",
     "text": [
      "[CV 4/5] END learning_rate=0.1, max_depth=50, min_samples_leaf=20, n_estimators=500; total time=   0.4s\n",
      "[CV 5/5] END learning_rate=0.1, max_depth=50, min_samples_leaf=20, n_estimators=500; total time=   0.4s\n",
      "[CV 1/5] END learning_rate=0.1, max_depth=50, min_samples_leaf=50, n_estimators=50; total time=   0.0s\n",
      "[CV 2/5] END learning_rate=0.1, max_depth=50, min_samples_leaf=50, n_estimators=50; total time=   0.0s\n",
      "[CV 3/5] END learning_rate=0.1, max_depth=50, min_samples_leaf=50, n_estimators=50; total time=   0.0s\n",
      "[CV 4/5] END learning_rate=0.1, max_depth=50, min_samples_leaf=50, n_estimators=50; total time=   0.0s\n",
      "[CV 5/5] END learning_rate=0.1, max_depth=50, min_samples_leaf=50, n_estimators=50; total time=   0.0s\n",
      "[CV 1/5] END learning_rate=0.1, max_depth=50, min_samples_leaf=50, n_estimators=100; total time=   0.0s\n",
      "[CV 2/5] END learning_rate=0.1, max_depth=50, min_samples_leaf=50, n_estimators=100; total time=   0.1s\n",
      "[CV 3/5] END learning_rate=0.1, max_depth=50, min_samples_leaf=50, n_estimators=100; total time=   0.1s\n",
      "[CV 4/5] END learning_rate=0.1, max_depth=50, min_samples_leaf=50, n_estimators=100; total time=   0.1s\n",
      "[CV 5/5] END learning_rate=0.1, max_depth=50, min_samples_leaf=50, n_estimators=100; total time=   0.1s\n",
      "[CV 1/5] END learning_rate=0.1, max_depth=50, min_samples_leaf=50, n_estimators=200; total time=   0.1s\n",
      "[CV 2/5] END learning_rate=0.1, max_depth=50, min_samples_leaf=50, n_estimators=200; total time=   0.1s\n",
      "[CV 3/5] END learning_rate=0.1, max_depth=50, min_samples_leaf=50, n_estimators=200; total time=   0.1s\n",
      "[CV 4/5] END learning_rate=0.1, max_depth=50, min_samples_leaf=50, n_estimators=200; total time=   0.1s\n",
      "[CV 5/5] END learning_rate=0.1, max_depth=50, min_samples_leaf=50, n_estimators=200; total time=   0.1s\n",
      "[CV 1/5] END learning_rate=0.1, max_depth=50, min_samples_leaf=50, n_estimators=500; total time=   0.2s\n",
      "[CV 2/5] END learning_rate=0.1, max_depth=50, min_samples_leaf=50, n_estimators=500; total time=   0.2s\n",
      "[CV 3/5] END learning_rate=0.1, max_depth=50, min_samples_leaf=50, n_estimators=500; total time=   0.2s\n",
      "[CV 4/5] END learning_rate=0.1, max_depth=50, min_samples_leaf=50, n_estimators=500; total time=   0.2s\n",
      "[CV 5/5] END learning_rate=0.1, max_depth=50, min_samples_leaf=50, n_estimators=500; total time=   0.2s\n",
      "[CV 1/5] END learning_rate=0.1, max_depth=100, min_samples_leaf=10, n_estimators=50; total time=   0.1s\n",
      "[CV 2/5] END learning_rate=0.1, max_depth=100, min_samples_leaf=10, n_estimators=50; total time=   0.1s\n",
      "[CV 3/5] END learning_rate=0.1, max_depth=100, min_samples_leaf=10, n_estimators=50; total time=   0.1s\n",
      "[CV 4/5] END learning_rate=0.1, max_depth=100, min_samples_leaf=10, n_estimators=50; total time=   0.1s\n",
      "[CV 5/5] END learning_rate=0.1, max_depth=100, min_samples_leaf=10, n_estimators=50; total time=   0.1s\n",
      "[CV 1/5] END learning_rate=0.1, max_depth=100, min_samples_leaf=10, n_estimators=100; total time=   0.1s\n",
      "[CV 2/5] END learning_rate=0.1, max_depth=100, min_samples_leaf=10, n_estimators=100; total time=   0.1s\n",
      "[CV 3/5] END learning_rate=0.1, max_depth=100, min_samples_leaf=10, n_estimators=100; total time=   0.1s\n",
      "[CV 4/5] END learning_rate=0.1, max_depth=100, min_samples_leaf=10, n_estimators=100; total time=   0.1s\n",
      "[CV 5/5] END learning_rate=0.1, max_depth=100, min_samples_leaf=10, n_estimators=100; total time=   0.1s\n",
      "[CV 1/5] END learning_rate=0.1, max_depth=100, min_samples_leaf=10, n_estimators=200; total time=   0.2s\n",
      "[CV 2/5] END learning_rate=0.1, max_depth=100, min_samples_leaf=10, n_estimators=200; total time=   0.2s\n",
      "[CV 3/5] END learning_rate=0.1, max_depth=100, min_samples_leaf=10, n_estimators=200; total time=   0.2s\n",
      "[CV 4/5] END learning_rate=0.1, max_depth=100, min_samples_leaf=10, n_estimators=200; total time=   0.2s\n",
      "[CV 5/5] END learning_rate=0.1, max_depth=100, min_samples_leaf=10, n_estimators=200; total time=   0.2s\n",
      "[CV 1/5] END learning_rate=0.1, max_depth=100, min_samples_leaf=10, n_estimators=500; total time=   0.6s\n",
      "[CV 2/5] END learning_rate=0.1, max_depth=100, min_samples_leaf=10, n_estimators=500; total time=   0.6s\n",
      "[CV 3/5] END learning_rate=0.1, max_depth=100, min_samples_leaf=10, n_estimators=500; total time=   0.6s\n",
      "[CV 4/5] END learning_rate=0.1, max_depth=100, min_samples_leaf=10, n_estimators=500; total time=   0.5s\n",
      "[CV 5/5] END learning_rate=0.1, max_depth=100, min_samples_leaf=10, n_estimators=500; total time=   0.6s\n",
      "[CV 1/5] END learning_rate=0.1, max_depth=100, min_samples_leaf=20, n_estimators=50; total time=   0.0s\n",
      "[CV 2/5] END learning_rate=0.1, max_depth=100, min_samples_leaf=20, n_estimators=50; total time=   0.0s\n",
      "[CV 3/5] END learning_rate=0.1, max_depth=100, min_samples_leaf=20, n_estimators=50; total time=   0.0s\n",
      "[CV 4/5] END learning_rate=0.1, max_depth=100, min_samples_leaf=20, n_estimators=50; total time=   0.0s\n",
      "[CV 5/5] END learning_rate=0.1, max_depth=100, min_samples_leaf=20, n_estimators=50; total time=   0.0s\n",
      "[CV 1/5] END learning_rate=0.1, max_depth=100, min_samples_leaf=20, n_estimators=100; total time=   0.1s\n",
      "[CV 2/5] END learning_rate=0.1, max_depth=100, min_samples_leaf=20, n_estimators=100; total time=   0.1s\n",
      "[CV 3/5] END learning_rate=0.1, max_depth=100, min_samples_leaf=20, n_estimators=100; total time=   0.1s\n",
      "[CV 4/5] END learning_rate=0.1, max_depth=100, min_samples_leaf=20, n_estimators=100; total time=   0.1s\n",
      "[CV 5/5] END learning_rate=0.1, max_depth=100, min_samples_leaf=20, n_estimators=100; total time=   0.1s\n",
      "[CV 1/5] END learning_rate=0.1, max_depth=100, min_samples_leaf=20, n_estimators=200; total time=   0.2s\n",
      "[CV 2/5] END learning_rate=0.1, max_depth=100, min_samples_leaf=20, n_estimators=200; total time=   0.2s\n",
      "[CV 3/5] END learning_rate=0.1, max_depth=100, min_samples_leaf=20, n_estimators=200; total time=   0.2s\n",
      "[CV 4/5] END learning_rate=0.1, max_depth=100, min_samples_leaf=20, n_estimators=200; total time=   0.2s\n",
      "[CV 5/5] END learning_rate=0.1, max_depth=100, min_samples_leaf=20, n_estimators=200; total time=   0.2s\n",
      "[CV 1/5] END learning_rate=0.1, max_depth=100, min_samples_leaf=20, n_estimators=500; total time=   0.4s\n",
      "[CV 2/5] END learning_rate=0.1, max_depth=100, min_samples_leaf=20, n_estimators=500; total time=   0.4s\n",
      "[CV 3/5] END learning_rate=0.1, max_depth=100, min_samples_leaf=20, n_estimators=500; total time=   0.4s\n",
      "[CV 4/5] END learning_rate=0.1, max_depth=100, min_samples_leaf=20, n_estimators=500; total time=   0.4s\n",
      "[CV 5/5] END learning_rate=0.1, max_depth=100, min_samples_leaf=20, n_estimators=500; total time=   0.4s\n",
      "[CV 1/5] END learning_rate=0.1, max_depth=100, min_samples_leaf=50, n_estimators=50; total time=   0.0s\n",
      "[CV 2/5] END learning_rate=0.1, max_depth=100, min_samples_leaf=50, n_estimators=50; total time=   0.0s\n",
      "[CV 3/5] END learning_rate=0.1, max_depth=100, min_samples_leaf=50, n_estimators=50; total time=   0.0s\n",
      "[CV 4/5] END learning_rate=0.1, max_depth=100, min_samples_leaf=50, n_estimators=50; total time=   0.0s\n",
      "[CV 5/5] END learning_rate=0.1, max_depth=100, min_samples_leaf=50, n_estimators=50; total time=   0.0s\n",
      "[CV 1/5] END learning_rate=0.1, max_depth=100, min_samples_leaf=50, n_estimators=100; total time=   0.1s\n",
      "[CV 2/5] END learning_rate=0.1, max_depth=100, min_samples_leaf=50, n_estimators=100; total time=   0.1s\n",
      "[CV 3/5] END learning_rate=0.1, max_depth=100, min_samples_leaf=50, n_estimators=100; total time=   0.1s\n",
      "[CV 4/5] END learning_rate=0.1, max_depth=100, min_samples_leaf=50, n_estimators=100; total time=   0.1s\n",
      "[CV 5/5] END learning_rate=0.1, max_depth=100, min_samples_leaf=50, n_estimators=100; total time=   0.1s\n",
      "[CV 1/5] END learning_rate=0.1, max_depth=100, min_samples_leaf=50, n_estimators=200; total time=   0.1s\n",
      "[CV 2/5] END learning_rate=0.1, max_depth=100, min_samples_leaf=50, n_estimators=200; total time=   0.1s\n",
      "[CV 3/5] END learning_rate=0.1, max_depth=100, min_samples_leaf=50, n_estimators=200; total time=   0.1s\n",
      "[CV 4/5] END learning_rate=0.1, max_depth=100, min_samples_leaf=50, n_estimators=200; total time=   0.1s\n",
      "[CV 5/5] END learning_rate=0.1, max_depth=100, min_samples_leaf=50, n_estimators=200; total time=   0.1s\n",
      "[CV 1/5] END learning_rate=0.1, max_depth=100, min_samples_leaf=50, n_estimators=500; total time=   0.2s\n",
      "[CV 2/5] END learning_rate=0.1, max_depth=100, min_samples_leaf=50, n_estimators=500; total time=   0.2s\n"
     ]
    },
    {
     "name": "stdout",
     "output_type": "stream",
     "text": [
      "[CV 3/5] END learning_rate=0.1, max_depth=100, min_samples_leaf=50, n_estimators=500; total time=   0.2s\n",
      "[CV 4/5] END learning_rate=0.1, max_depth=100, min_samples_leaf=50, n_estimators=500; total time=   0.2s\n",
      "[CV 5/5] END learning_rate=0.1, max_depth=100, min_samples_leaf=50, n_estimators=500; total time=   0.2s\n",
      "[CV 1/5] END learning_rate=0.01, max_depth=10, min_samples_leaf=10, n_estimators=50; total time=   0.1s\n",
      "[CV 2/5] END learning_rate=0.01, max_depth=10, min_samples_leaf=10, n_estimators=50; total time=   0.1s\n",
      "[CV 3/5] END learning_rate=0.01, max_depth=10, min_samples_leaf=10, n_estimators=50; total time=   0.1s\n",
      "[CV 4/5] END learning_rate=0.01, max_depth=10, min_samples_leaf=10, n_estimators=50; total time=   0.0s\n",
      "[CV 5/5] END learning_rate=0.01, max_depth=10, min_samples_leaf=10, n_estimators=50; total time=   0.0s\n",
      "[CV 1/5] END learning_rate=0.01, max_depth=10, min_samples_leaf=10, n_estimators=100; total time=   0.1s\n",
      "[CV 2/5] END learning_rate=0.01, max_depth=10, min_samples_leaf=10, n_estimators=100; total time=   0.1s\n",
      "[CV 3/5] END learning_rate=0.01, max_depth=10, min_samples_leaf=10, n_estimators=100; total time=   0.1s\n",
      "[CV 4/5] END learning_rate=0.01, max_depth=10, min_samples_leaf=10, n_estimators=100; total time=   0.1s\n",
      "[CV 5/5] END learning_rate=0.01, max_depth=10, min_samples_leaf=10, n_estimators=100; total time=   0.1s\n",
      "[CV 1/5] END learning_rate=0.01, max_depth=10, min_samples_leaf=10, n_estimators=200; total time=   0.2s\n",
      "[CV 2/5] END learning_rate=0.01, max_depth=10, min_samples_leaf=10, n_estimators=200; total time=   0.2s\n",
      "[CV 3/5] END learning_rate=0.01, max_depth=10, min_samples_leaf=10, n_estimators=200; total time=   0.2s\n",
      "[CV 4/5] END learning_rate=0.01, max_depth=10, min_samples_leaf=10, n_estimators=200; total time=   0.2s\n",
      "[CV 5/5] END learning_rate=0.01, max_depth=10, min_samples_leaf=10, n_estimators=200; total time=   0.2s\n",
      "[CV 1/5] END learning_rate=0.01, max_depth=10, min_samples_leaf=10, n_estimators=500; total time=   0.5s\n",
      "[CV 2/5] END learning_rate=0.01, max_depth=10, min_samples_leaf=10, n_estimators=500; total time=   0.5s\n",
      "[CV 3/5] END learning_rate=0.01, max_depth=10, min_samples_leaf=10, n_estimators=500; total time=   0.5s\n",
      "[CV 4/5] END learning_rate=0.01, max_depth=10, min_samples_leaf=10, n_estimators=500; total time=   0.5s\n",
      "[CV 5/5] END learning_rate=0.01, max_depth=10, min_samples_leaf=10, n_estimators=500; total time=   0.5s\n",
      "[CV 1/5] END learning_rate=0.01, max_depth=10, min_samples_leaf=20, n_estimators=50; total time=   0.0s\n",
      "[CV 2/5] END learning_rate=0.01, max_depth=10, min_samples_leaf=20, n_estimators=50; total time=   0.0s\n",
      "[CV 3/5] END learning_rate=0.01, max_depth=10, min_samples_leaf=20, n_estimators=50; total time=   0.0s\n",
      "[CV 4/5] END learning_rate=0.01, max_depth=10, min_samples_leaf=20, n_estimators=50; total time=   0.0s\n",
      "[CV 5/5] END learning_rate=0.01, max_depth=10, min_samples_leaf=20, n_estimators=50; total time=   0.0s\n",
      "[CV 1/5] END learning_rate=0.01, max_depth=10, min_samples_leaf=20, n_estimators=100; total time=   0.1s\n",
      "[CV 2/5] END learning_rate=0.01, max_depth=10, min_samples_leaf=20, n_estimators=100; total time=   0.1s\n",
      "[CV 3/5] END learning_rate=0.01, max_depth=10, min_samples_leaf=20, n_estimators=100; total time=   0.1s\n",
      "[CV 4/5] END learning_rate=0.01, max_depth=10, min_samples_leaf=20, n_estimators=100; total time=   0.1s\n",
      "[CV 5/5] END learning_rate=0.01, max_depth=10, min_samples_leaf=20, n_estimators=100; total time=   0.1s\n",
      "[CV 1/5] END learning_rate=0.01, max_depth=10, min_samples_leaf=20, n_estimators=200; total time=   0.2s\n",
      "[CV 2/5] END learning_rate=0.01, max_depth=10, min_samples_leaf=20, n_estimators=200; total time=   0.1s\n",
      "[CV 3/5] END learning_rate=0.01, max_depth=10, min_samples_leaf=20, n_estimators=200; total time=   0.2s\n",
      "[CV 4/5] END learning_rate=0.01, max_depth=10, min_samples_leaf=20, n_estimators=200; total time=   0.2s\n",
      "[CV 5/5] END learning_rate=0.01, max_depth=10, min_samples_leaf=20, n_estimators=200; total time=   0.2s\n",
      "[CV 1/5] END learning_rate=0.01, max_depth=10, min_samples_leaf=20, n_estimators=500; total time=   0.4s\n",
      "[CV 2/5] END learning_rate=0.01, max_depth=10, min_samples_leaf=20, n_estimators=500; total time=   0.4s\n",
      "[CV 3/5] END learning_rate=0.01, max_depth=10, min_samples_leaf=20, n_estimators=500; total time=   0.4s\n",
      "[CV 4/5] END learning_rate=0.01, max_depth=10, min_samples_leaf=20, n_estimators=500; total time=   0.4s\n",
      "[CV 5/5] END learning_rate=0.01, max_depth=10, min_samples_leaf=20, n_estimators=500; total time=   0.4s\n",
      "[CV 1/5] END learning_rate=0.01, max_depth=10, min_samples_leaf=50, n_estimators=50; total time=   0.0s\n",
      "[CV 2/5] END learning_rate=0.01, max_depth=10, min_samples_leaf=50, n_estimators=50; total time=   0.0s\n",
      "[CV 3/5] END learning_rate=0.01, max_depth=10, min_samples_leaf=50, n_estimators=50; total time=   0.0s\n",
      "[CV 4/5] END learning_rate=0.01, max_depth=10, min_samples_leaf=50, n_estimators=50; total time=   0.0s\n",
      "[CV 5/5] END learning_rate=0.01, max_depth=10, min_samples_leaf=50, n_estimators=50; total time=   0.0s\n",
      "[CV 1/5] END learning_rate=0.01, max_depth=10, min_samples_leaf=50, n_estimators=100; total time=   0.1s\n",
      "[CV 2/5] END learning_rate=0.01, max_depth=10, min_samples_leaf=50, n_estimators=100; total time=   0.1s\n",
      "[CV 3/5] END learning_rate=0.01, max_depth=10, min_samples_leaf=50, n_estimators=100; total time=   0.1s\n",
      "[CV 4/5] END learning_rate=0.01, max_depth=10, min_samples_leaf=50, n_estimators=100; total time=   0.1s\n",
      "[CV 5/5] END learning_rate=0.01, max_depth=10, min_samples_leaf=50, n_estimators=100; total time=   0.1s\n",
      "[CV 1/5] END learning_rate=0.01, max_depth=10, min_samples_leaf=50, n_estimators=200; total time=   0.1s\n",
      "[CV 2/5] END learning_rate=0.01, max_depth=10, min_samples_leaf=50, n_estimators=200; total time=   0.1s\n",
      "[CV 3/5] END learning_rate=0.01, max_depth=10, min_samples_leaf=50, n_estimators=200; total time=   0.1s\n",
      "[CV 4/5] END learning_rate=0.01, max_depth=10, min_samples_leaf=50, n_estimators=200; total time=   0.1s\n",
      "[CV 5/5] END learning_rate=0.01, max_depth=10, min_samples_leaf=50, n_estimators=200; total time=   0.1s\n",
      "[CV 1/5] END learning_rate=0.01, max_depth=10, min_samples_leaf=50, n_estimators=500; total time=   0.2s\n",
      "[CV 2/5] END learning_rate=0.01, max_depth=10, min_samples_leaf=50, n_estimators=500; total time=   0.2s\n",
      "[CV 3/5] END learning_rate=0.01, max_depth=10, min_samples_leaf=50, n_estimators=500; total time=   0.2s\n",
      "[CV 4/5] END learning_rate=0.01, max_depth=10, min_samples_leaf=50, n_estimators=500; total time=   0.2s\n",
      "[CV 5/5] END learning_rate=0.01, max_depth=10, min_samples_leaf=50, n_estimators=500; total time=   0.2s\n",
      "[CV 1/5] END learning_rate=0.01, max_depth=20, min_samples_leaf=10, n_estimators=50; total time=   0.1s\n",
      "[CV 2/5] END learning_rate=0.01, max_depth=20, min_samples_leaf=10, n_estimators=50; total time=   0.1s\n",
      "[CV 3/5] END learning_rate=0.01, max_depth=20, min_samples_leaf=10, n_estimators=50; total time=   0.1s\n",
      "[CV 4/5] END learning_rate=0.01, max_depth=20, min_samples_leaf=10, n_estimators=50; total time=   0.0s\n",
      "[CV 5/5] END learning_rate=0.01, max_depth=20, min_samples_leaf=10, n_estimators=50; total time=   0.1s\n",
      "[CV 1/5] END learning_rate=0.01, max_depth=20, min_samples_leaf=10, n_estimators=100; total time=   0.1s\n",
      "[CV 2/5] END learning_rate=0.01, max_depth=20, min_samples_leaf=10, n_estimators=100; total time=   0.1s\n",
      "[CV 3/5] END learning_rate=0.01, max_depth=20, min_samples_leaf=10, n_estimators=100; total time=   0.1s\n",
      "[CV 4/5] END learning_rate=0.01, max_depth=20, min_samples_leaf=10, n_estimators=100; total time=   0.1s\n",
      "[CV 5/5] END learning_rate=0.01, max_depth=20, min_samples_leaf=10, n_estimators=100; total time=   0.1s\n",
      "[CV 1/5] END learning_rate=0.01, max_depth=20, min_samples_leaf=10, n_estimators=200; total time=   0.2s\n",
      "[CV 2/5] END learning_rate=0.01, max_depth=20, min_samples_leaf=10, n_estimators=200; total time=   0.2s\n",
      "[CV 3/5] END learning_rate=0.01, max_depth=20, min_samples_leaf=10, n_estimators=200; total time=   0.3s\n",
      "[CV 4/5] END learning_rate=0.01, max_depth=20, min_samples_leaf=10, n_estimators=200; total time=   0.2s\n",
      "[CV 5/5] END learning_rate=0.01, max_depth=20, min_samples_leaf=10, n_estimators=200; total time=   0.2s\n",
      "[CV 1/5] END learning_rate=0.01, max_depth=20, min_samples_leaf=10, n_estimators=500; total time=   0.6s\n"
     ]
    },
    {
     "name": "stdout",
     "output_type": "stream",
     "text": [
      "[CV 2/5] END learning_rate=0.01, max_depth=20, min_samples_leaf=10, n_estimators=500; total time=   0.7s\n",
      "[CV 3/5] END learning_rate=0.01, max_depth=20, min_samples_leaf=10, n_estimators=500; total time=   0.6s\n",
      "[CV 4/5] END learning_rate=0.01, max_depth=20, min_samples_leaf=10, n_estimators=500; total time=   0.6s\n",
      "[CV 5/5] END learning_rate=0.01, max_depth=20, min_samples_leaf=10, n_estimators=500; total time=   0.5s\n",
      "[CV 1/5] END learning_rate=0.01, max_depth=20, min_samples_leaf=20, n_estimators=50; total time=   0.0s\n",
      "[CV 2/5] END learning_rate=0.01, max_depth=20, min_samples_leaf=20, n_estimators=50; total time=   0.0s\n",
      "[CV 3/5] END learning_rate=0.01, max_depth=20, min_samples_leaf=20, n_estimators=50; total time=   0.0s\n",
      "[CV 4/5] END learning_rate=0.01, max_depth=20, min_samples_leaf=20, n_estimators=50; total time=   0.0s\n",
      "[CV 5/5] END learning_rate=0.01, max_depth=20, min_samples_leaf=20, n_estimators=50; total time=   0.0s\n",
      "[CV 1/5] END learning_rate=0.01, max_depth=20, min_samples_leaf=20, n_estimators=100; total time=   0.1s\n",
      "[CV 2/5] END learning_rate=0.01, max_depth=20, min_samples_leaf=20, n_estimators=100; total time=   0.1s\n",
      "[CV 3/5] END learning_rate=0.01, max_depth=20, min_samples_leaf=20, n_estimators=100; total time=   0.1s\n",
      "[CV 4/5] END learning_rate=0.01, max_depth=20, min_samples_leaf=20, n_estimators=100; total time=   0.1s\n",
      "[CV 5/5] END learning_rate=0.01, max_depth=20, min_samples_leaf=20, n_estimators=100; total time=   0.1s\n",
      "[CV 1/5] END learning_rate=0.01, max_depth=20, min_samples_leaf=20, n_estimators=200; total time=   0.2s\n",
      "[CV 2/5] END learning_rate=0.01, max_depth=20, min_samples_leaf=20, n_estimators=200; total time=   0.1s\n",
      "[CV 3/5] END learning_rate=0.01, max_depth=20, min_samples_leaf=20, n_estimators=200; total time=   0.2s\n",
      "[CV 4/5] END learning_rate=0.01, max_depth=20, min_samples_leaf=20, n_estimators=200; total time=   0.2s\n",
      "[CV 5/5] END learning_rate=0.01, max_depth=20, min_samples_leaf=20, n_estimators=200; total time=   0.2s\n",
      "[CV 1/5] END learning_rate=0.01, max_depth=20, min_samples_leaf=20, n_estimators=500; total time=   0.4s\n",
      "[CV 2/5] END learning_rate=0.01, max_depth=20, min_samples_leaf=20, n_estimators=500; total time=   0.4s\n",
      "[CV 3/5] END learning_rate=0.01, max_depth=20, min_samples_leaf=20, n_estimators=500; total time=   0.4s\n",
      "[CV 4/5] END learning_rate=0.01, max_depth=20, min_samples_leaf=20, n_estimators=500; total time=   0.4s\n",
      "[CV 5/5] END learning_rate=0.01, max_depth=20, min_samples_leaf=20, n_estimators=500; total time=   0.4s\n",
      "[CV 1/5] END learning_rate=0.01, max_depth=20, min_samples_leaf=50, n_estimators=50; total time=   0.0s\n",
      "[CV 2/5] END learning_rate=0.01, max_depth=20, min_samples_leaf=50, n_estimators=50; total time=   0.0s\n",
      "[CV 3/5] END learning_rate=0.01, max_depth=20, min_samples_leaf=50, n_estimators=50; total time=   0.0s\n",
      "[CV 4/5] END learning_rate=0.01, max_depth=20, min_samples_leaf=50, n_estimators=50; total time=   0.0s\n",
      "[CV 5/5] END learning_rate=0.01, max_depth=20, min_samples_leaf=50, n_estimators=50; total time=   0.0s\n",
      "[CV 1/5] END learning_rate=0.01, max_depth=20, min_samples_leaf=50, n_estimators=100; total time=   0.1s\n",
      "[CV 2/5] END learning_rate=0.01, max_depth=20, min_samples_leaf=50, n_estimators=100; total time=   0.1s\n",
      "[CV 3/5] END learning_rate=0.01, max_depth=20, min_samples_leaf=50, n_estimators=100; total time=   0.1s\n",
      "[CV 4/5] END learning_rate=0.01, max_depth=20, min_samples_leaf=50, n_estimators=100; total time=   0.1s\n",
      "[CV 5/5] END learning_rate=0.01, max_depth=20, min_samples_leaf=50, n_estimators=100; total time=   0.1s\n",
      "[CV 1/5] END learning_rate=0.01, max_depth=20, min_samples_leaf=50, n_estimators=200; total time=   0.1s\n",
      "[CV 2/5] END learning_rate=0.01, max_depth=20, min_samples_leaf=50, n_estimators=200; total time=   0.1s\n",
      "[CV 3/5] END learning_rate=0.01, max_depth=20, min_samples_leaf=50, n_estimators=200; total time=   0.1s\n",
      "[CV 4/5] END learning_rate=0.01, max_depth=20, min_samples_leaf=50, n_estimators=200; total time=   0.1s\n",
      "[CV 5/5] END learning_rate=0.01, max_depth=20, min_samples_leaf=50, n_estimators=200; total time=   0.1s\n",
      "[CV 1/5] END learning_rate=0.01, max_depth=20, min_samples_leaf=50, n_estimators=500; total time=   0.2s\n",
      "[CV 2/5] END learning_rate=0.01, max_depth=20, min_samples_leaf=50, n_estimators=500; total time=   0.2s\n",
      "[CV 3/5] END learning_rate=0.01, max_depth=20, min_samples_leaf=50, n_estimators=500; total time=   0.2s\n",
      "[CV 4/5] END learning_rate=0.01, max_depth=20, min_samples_leaf=50, n_estimators=500; total time=   0.2s\n",
      "[CV 5/5] END learning_rate=0.01, max_depth=20, min_samples_leaf=50, n_estimators=500; total time=   0.2s\n",
      "[CV 1/5] END learning_rate=0.01, max_depth=50, min_samples_leaf=10, n_estimators=50; total time=   0.1s\n",
      "[CV 2/5] END learning_rate=0.01, max_depth=50, min_samples_leaf=10, n_estimators=50; total time=   0.1s\n",
      "[CV 3/5] END learning_rate=0.01, max_depth=50, min_samples_leaf=10, n_estimators=50; total time=   0.1s\n",
      "[CV 4/5] END learning_rate=0.01, max_depth=50, min_samples_leaf=10, n_estimators=50; total time=   0.0s\n",
      "[CV 5/5] END learning_rate=0.01, max_depth=50, min_samples_leaf=10, n_estimators=50; total time=   0.1s\n",
      "[CV 1/5] END learning_rate=0.01, max_depth=50, min_samples_leaf=10, n_estimators=100; total time=   0.1s\n",
      "[CV 2/5] END learning_rate=0.01, max_depth=50, min_samples_leaf=10, n_estimators=100; total time=   0.1s\n",
      "[CV 3/5] END learning_rate=0.01, max_depth=50, min_samples_leaf=10, n_estimators=100; total time=   0.1s\n",
      "[CV 4/5] END learning_rate=0.01, max_depth=50, min_samples_leaf=10, n_estimators=100; total time=   0.1s\n",
      "[CV 5/5] END learning_rate=0.01, max_depth=50, min_samples_leaf=10, n_estimators=100; total time=   0.1s\n",
      "[CV 1/5] END learning_rate=0.01, max_depth=50, min_samples_leaf=10, n_estimators=200; total time=   0.2s\n",
      "[CV 2/5] END learning_rate=0.01, max_depth=50, min_samples_leaf=10, n_estimators=200; total time=   0.3s\n",
      "[CV 3/5] END learning_rate=0.01, max_depth=50, min_samples_leaf=10, n_estimators=200; total time=   0.3s\n",
      "[CV 4/5] END learning_rate=0.01, max_depth=50, min_samples_leaf=10, n_estimators=200; total time=   0.2s\n",
      "[CV 5/5] END learning_rate=0.01, max_depth=50, min_samples_leaf=10, n_estimators=200; total time=   0.2s\n",
      "[CV 1/5] END learning_rate=0.01, max_depth=50, min_samples_leaf=10, n_estimators=500; total time=   0.6s\n",
      "[CV 2/5] END learning_rate=0.01, max_depth=50, min_samples_leaf=10, n_estimators=500; total time=   0.6s\n",
      "[CV 3/5] END learning_rate=0.01, max_depth=50, min_samples_leaf=10, n_estimators=500; total time=   0.6s\n",
      "[CV 4/5] END learning_rate=0.01, max_depth=50, min_samples_leaf=10, n_estimators=500; total time=   0.6s\n",
      "[CV 5/5] END learning_rate=0.01, max_depth=50, min_samples_leaf=10, n_estimators=500; total time=   0.6s\n",
      "[CV 1/5] END learning_rate=0.01, max_depth=50, min_samples_leaf=20, n_estimators=50; total time=   0.0s\n",
      "[CV 2/5] END learning_rate=0.01, max_depth=50, min_samples_leaf=20, n_estimators=50; total time=   0.0s\n",
      "[CV 3/5] END learning_rate=0.01, max_depth=50, min_samples_leaf=20, n_estimators=50; total time=   0.0s\n",
      "[CV 4/5] END learning_rate=0.01, max_depth=50, min_samples_leaf=20, n_estimators=50; total time=   0.0s\n",
      "[CV 5/5] END learning_rate=0.01, max_depth=50, min_samples_leaf=20, n_estimators=50; total time=   0.0s\n",
      "[CV 1/5] END learning_rate=0.01, max_depth=50, min_samples_leaf=20, n_estimators=100; total time=   0.1s\n",
      "[CV 2/5] END learning_rate=0.01, max_depth=50, min_samples_leaf=20, n_estimators=100; total time=   0.1s\n",
      "[CV 3/5] END learning_rate=0.01, max_depth=50, min_samples_leaf=20, n_estimators=100; total time=   0.1s\n",
      "[CV 4/5] END learning_rate=0.01, max_depth=50, min_samples_leaf=20, n_estimators=100; total time=   0.1s\n",
      "[CV 5/5] END learning_rate=0.01, max_depth=50, min_samples_leaf=20, n_estimators=100; total time=   0.1s\n",
      "[CV 1/5] END learning_rate=0.01, max_depth=50, min_samples_leaf=20, n_estimators=200; total time=   0.2s\n",
      "[CV 2/5] END learning_rate=0.01, max_depth=50, min_samples_leaf=20, n_estimators=200; total time=   0.1s\n",
      "[CV 3/5] END learning_rate=0.01, max_depth=50, min_samples_leaf=20, n_estimators=200; total time=   0.2s\n",
      "[CV 4/5] END learning_rate=0.01, max_depth=50, min_samples_leaf=20, n_estimators=200; total time=   0.2s\n",
      "[CV 5/5] END learning_rate=0.01, max_depth=50, min_samples_leaf=20, n_estimators=200; total time=   0.2s\n"
     ]
    },
    {
     "name": "stdout",
     "output_type": "stream",
     "text": [
      "[CV 1/5] END learning_rate=0.01, max_depth=50, min_samples_leaf=20, n_estimators=500; total time=   0.4s\n",
      "[CV 2/5] END learning_rate=0.01, max_depth=50, min_samples_leaf=20, n_estimators=500; total time=   0.4s\n",
      "[CV 3/5] END learning_rate=0.01, max_depth=50, min_samples_leaf=20, n_estimators=500; total time=   0.4s\n",
      "[CV 4/5] END learning_rate=0.01, max_depth=50, min_samples_leaf=20, n_estimators=500; total time=   0.4s\n",
      "[CV 5/5] END learning_rate=0.01, max_depth=50, min_samples_leaf=20, n_estimators=500; total time=   0.5s\n",
      "[CV 1/5] END learning_rate=0.01, max_depth=50, min_samples_leaf=50, n_estimators=50; total time=   0.0s\n",
      "[CV 2/5] END learning_rate=0.01, max_depth=50, min_samples_leaf=50, n_estimators=50; total time=   0.0s\n",
      "[CV 3/5] END learning_rate=0.01, max_depth=50, min_samples_leaf=50, n_estimators=50; total time=   0.0s\n",
      "[CV 4/5] END learning_rate=0.01, max_depth=50, min_samples_leaf=50, n_estimators=50; total time=   0.0s\n",
      "[CV 5/5] END learning_rate=0.01, max_depth=50, min_samples_leaf=50, n_estimators=50; total time=   0.0s\n",
      "[CV 1/5] END learning_rate=0.01, max_depth=50, min_samples_leaf=50, n_estimators=100; total time=   0.1s\n",
      "[CV 2/5] END learning_rate=0.01, max_depth=50, min_samples_leaf=50, n_estimators=100; total time=   0.1s\n",
      "[CV 3/5] END learning_rate=0.01, max_depth=50, min_samples_leaf=50, n_estimators=100; total time=   0.1s\n",
      "[CV 4/5] END learning_rate=0.01, max_depth=50, min_samples_leaf=50, n_estimators=100; total time=   0.1s\n",
      "[CV 5/5] END learning_rate=0.01, max_depth=50, min_samples_leaf=50, n_estimators=100; total time=   0.1s\n",
      "[CV 1/5] END learning_rate=0.01, max_depth=50, min_samples_leaf=50, n_estimators=200; total time=   0.1s\n",
      "[CV 2/5] END learning_rate=0.01, max_depth=50, min_samples_leaf=50, n_estimators=200; total time=   0.1s\n",
      "[CV 3/5] END learning_rate=0.01, max_depth=50, min_samples_leaf=50, n_estimators=200; total time=   0.1s\n",
      "[CV 4/5] END learning_rate=0.01, max_depth=50, min_samples_leaf=50, n_estimators=200; total time=   0.1s\n",
      "[CV 5/5] END learning_rate=0.01, max_depth=50, min_samples_leaf=50, n_estimators=200; total time=   0.1s\n",
      "[CV 1/5] END learning_rate=0.01, max_depth=50, min_samples_leaf=50, n_estimators=500; total time=   0.3s\n",
      "[CV 2/5] END learning_rate=0.01, max_depth=50, min_samples_leaf=50, n_estimators=500; total time=   0.3s\n",
      "[CV 3/5] END learning_rate=0.01, max_depth=50, min_samples_leaf=50, n_estimators=500; total time=   0.3s\n",
      "[CV 4/5] END learning_rate=0.01, max_depth=50, min_samples_leaf=50, n_estimators=500; total time=   0.3s\n",
      "[CV 5/5] END learning_rate=0.01, max_depth=50, min_samples_leaf=50, n_estimators=500; total time=   0.3s\n",
      "[CV 1/5] END learning_rate=0.01, max_depth=100, min_samples_leaf=10, n_estimators=50; total time=   0.1s\n",
      "[CV 2/5] END learning_rate=0.01, max_depth=100, min_samples_leaf=10, n_estimators=50; total time=   0.1s\n",
      "[CV 3/5] END learning_rate=0.01, max_depth=100, min_samples_leaf=10, n_estimators=50; total time=   0.1s\n",
      "[CV 4/5] END learning_rate=0.01, max_depth=100, min_samples_leaf=10, n_estimators=50; total time=   0.1s\n",
      "[CV 5/5] END learning_rate=0.01, max_depth=100, min_samples_leaf=10, n_estimators=50; total time=   0.1s\n",
      "[CV 1/5] END learning_rate=0.01, max_depth=100, min_samples_leaf=10, n_estimators=100; total time=   0.1s\n",
      "[CV 2/5] END learning_rate=0.01, max_depth=100, min_samples_leaf=10, n_estimators=100; total time=   0.1s\n",
      "[CV 3/5] END learning_rate=0.01, max_depth=100, min_samples_leaf=10, n_estimators=100; total time=   0.1s\n",
      "[CV 4/5] END learning_rate=0.01, max_depth=100, min_samples_leaf=10, n_estimators=100; total time=   0.1s\n",
      "[CV 5/5] END learning_rate=0.01, max_depth=100, min_samples_leaf=10, n_estimators=100; total time=   0.1s\n",
      "[CV 1/5] END learning_rate=0.01, max_depth=100, min_samples_leaf=10, n_estimators=200; total time=   0.2s\n",
      "[CV 2/5] END learning_rate=0.01, max_depth=100, min_samples_leaf=10, n_estimators=200; total time=   0.2s\n",
      "[CV 3/5] END learning_rate=0.01, max_depth=100, min_samples_leaf=10, n_estimators=200; total time=   0.2s\n",
      "[CV 4/5] END learning_rate=0.01, max_depth=100, min_samples_leaf=10, n_estimators=200; total time=   0.2s\n",
      "[CV 5/5] END learning_rate=0.01, max_depth=100, min_samples_leaf=10, n_estimators=200; total time=   0.2s\n",
      "[CV 1/5] END learning_rate=0.01, max_depth=100, min_samples_leaf=10, n_estimators=500; total time=   0.6s\n",
      "[CV 2/5] END learning_rate=0.01, max_depth=100, min_samples_leaf=10, n_estimators=500; total time=   0.6s\n",
      "[CV 3/5] END learning_rate=0.01, max_depth=100, min_samples_leaf=10, n_estimators=500; total time=   0.6s\n",
      "[CV 4/5] END learning_rate=0.01, max_depth=100, min_samples_leaf=10, n_estimators=500; total time=   0.6s\n",
      "[CV 5/5] END learning_rate=0.01, max_depth=100, min_samples_leaf=10, n_estimators=500; total time=   0.6s\n",
      "[CV 1/5] END learning_rate=0.01, max_depth=100, min_samples_leaf=20, n_estimators=50; total time=   0.0s\n",
      "[CV 2/5] END learning_rate=0.01, max_depth=100, min_samples_leaf=20, n_estimators=50; total time=   0.0s\n",
      "[CV 3/5] END learning_rate=0.01, max_depth=100, min_samples_leaf=20, n_estimators=50; total time=   0.0s\n",
      "[CV 4/5] END learning_rate=0.01, max_depth=100, min_samples_leaf=20, n_estimators=50; total time=   0.0s\n",
      "[CV 5/5] END learning_rate=0.01, max_depth=100, min_samples_leaf=20, n_estimators=50; total time=   0.0s\n",
      "[CV 1/5] END learning_rate=0.01, max_depth=100, min_samples_leaf=20, n_estimators=100; total time=   0.1s\n",
      "[CV 2/5] END learning_rate=0.01, max_depth=100, min_samples_leaf=20, n_estimators=100; total time=   0.1s\n",
      "[CV 3/5] END learning_rate=0.01, max_depth=100, min_samples_leaf=20, n_estimators=100; total time=   0.1s\n",
      "[CV 4/5] END learning_rate=0.01, max_depth=100, min_samples_leaf=20, n_estimators=100; total time=   0.1s\n",
      "[CV 5/5] END learning_rate=0.01, max_depth=100, min_samples_leaf=20, n_estimators=100; total time=   0.1s\n",
      "[CV 1/5] END learning_rate=0.01, max_depth=100, min_samples_leaf=20, n_estimators=200; total time=   0.2s\n",
      "[CV 2/5] END learning_rate=0.01, max_depth=100, min_samples_leaf=20, n_estimators=200; total time=   0.1s\n",
      "[CV 3/5] END learning_rate=0.01, max_depth=100, min_samples_leaf=20, n_estimators=200; total time=   0.2s\n",
      "[CV 4/5] END learning_rate=0.01, max_depth=100, min_samples_leaf=20, n_estimators=200; total time=   0.2s\n",
      "[CV 5/5] END learning_rate=0.01, max_depth=100, min_samples_leaf=20, n_estimators=200; total time=   0.2s\n",
      "[CV 1/5] END learning_rate=0.01, max_depth=100, min_samples_leaf=20, n_estimators=500; total time=   0.4s\n",
      "[CV 2/5] END learning_rate=0.01, max_depth=100, min_samples_leaf=20, n_estimators=500; total time=   0.4s\n",
      "[CV 3/5] END learning_rate=0.01, max_depth=100, min_samples_leaf=20, n_estimators=500; total time=   0.4s\n",
      "[CV 4/5] END learning_rate=0.01, max_depth=100, min_samples_leaf=20, n_estimators=500; total time=   0.4s\n",
      "[CV 5/5] END learning_rate=0.01, max_depth=100, min_samples_leaf=20, n_estimators=500; total time=   0.4s\n",
      "[CV 1/5] END learning_rate=0.01, max_depth=100, min_samples_leaf=50, n_estimators=50; total time=   0.0s\n",
      "[CV 2/5] END learning_rate=0.01, max_depth=100, min_samples_leaf=50, n_estimators=50; total time=   0.0s\n",
      "[CV 3/5] END learning_rate=0.01, max_depth=100, min_samples_leaf=50, n_estimators=50; total time=   0.0s\n",
      "[CV 4/5] END learning_rate=0.01, max_depth=100, min_samples_leaf=50, n_estimators=50; total time=   0.0s\n",
      "[CV 5/5] END learning_rate=0.01, max_depth=100, min_samples_leaf=50, n_estimators=50; total time=   0.0s\n",
      "[CV 1/5] END learning_rate=0.01, max_depth=100, min_samples_leaf=50, n_estimators=100; total time=   0.1s\n",
      "[CV 2/5] END learning_rate=0.01, max_depth=100, min_samples_leaf=50, n_estimators=100; total time=   0.1s\n",
      "[CV 3/5] END learning_rate=0.01, max_depth=100, min_samples_leaf=50, n_estimators=100; total time=   0.1s\n",
      "[CV 4/5] END learning_rate=0.01, max_depth=100, min_samples_leaf=50, n_estimators=100; total time=   0.1s\n",
      "[CV 5/5] END learning_rate=0.01, max_depth=100, min_samples_leaf=50, n_estimators=100; total time=   0.1s\n",
      "[CV 1/5] END learning_rate=0.01, max_depth=100, min_samples_leaf=50, n_estimators=200; total time=   0.1s\n",
      "[CV 2/5] END learning_rate=0.01, max_depth=100, min_samples_leaf=50, n_estimators=200; total time=   0.1s\n",
      "[CV 3/5] END learning_rate=0.01, max_depth=100, min_samples_leaf=50, n_estimators=200; total time=   0.1s\n"
     ]
    },
    {
     "name": "stdout",
     "output_type": "stream",
     "text": [
      "[CV 4/5] END learning_rate=0.01, max_depth=100, min_samples_leaf=50, n_estimators=200; total time=   0.1s\n",
      "[CV 5/5] END learning_rate=0.01, max_depth=100, min_samples_leaf=50, n_estimators=200; total time=   0.1s\n",
      "[CV 1/5] END learning_rate=0.01, max_depth=100, min_samples_leaf=50, n_estimators=500; total time=   0.2s\n",
      "[CV 2/5] END learning_rate=0.01, max_depth=100, min_samples_leaf=50, n_estimators=500; total time=   0.2s\n",
      "[CV 3/5] END learning_rate=0.01, max_depth=100, min_samples_leaf=50, n_estimators=500; total time=   0.2s\n",
      "[CV 4/5] END learning_rate=0.01, max_depth=100, min_samples_leaf=50, n_estimators=500; total time=   0.3s\n",
      "[CV 5/5] END learning_rate=0.01, max_depth=100, min_samples_leaf=50, n_estimators=500; total time=   0.3s\n"
     ]
    },
    {
     "data": {
      "text/plain": [
       "GridSearchCV(estimator=GradientBoostingClassifier(),\n",
       "             param_grid={'learning_rate': [0.1, 0.01],\n",
       "                         'max_depth': [10, 20, 50, 100],\n",
       "                         'min_samples_leaf': [10, 20, 50],\n",
       "                         'n_estimators': [50, 100, 200, 500]},\n",
       "             scoring='roc_auc', verbose=5)"
      ]
     },
     "execution_count": 15,
     "metadata": {},
     "output_type": "execute_result"
    }
   ],
   "source": [
    "from sklearn.model_selection import GridSearchCV\n",
    "cv_grid = GridSearchCV(gbc, \n",
    "                       param_grid = rf_tuned_parameters,\n",
    "                       scoring = 'roc_auc', verbose = 5)\n",
    "cv_grid.fit(x_train, y_train)"
   ]
  },
  {
   "cell_type": "code",
   "execution_count": 16,
   "id": "following-narrative",
   "metadata": {},
   "outputs": [
    {
     "data": {
      "text/plain": [
       "{'ccp_alpha': 0.0,\n",
       " 'criterion': 'friedman_mse',\n",
       " 'init': None,\n",
       " 'learning_rate': 0.01,\n",
       " 'loss': 'deviance',\n",
       " 'max_depth': 10,\n",
       " 'max_features': None,\n",
       " 'max_leaf_nodes': None,\n",
       " 'min_impurity_decrease': 0.0,\n",
       " 'min_impurity_split': None,\n",
       " 'min_samples_leaf': 20,\n",
       " 'min_samples_split': 2,\n",
       " 'min_weight_fraction_leaf': 0.0,\n",
       " 'n_estimators': 500,\n",
       " 'n_iter_no_change': None,\n",
       " 'random_state': None,\n",
       " 'subsample': 1.0,\n",
       " 'tol': 0.0001,\n",
       " 'validation_fraction': 0.1,\n",
       " 'verbose': 0,\n",
       " 'warm_start': False}"
      ]
     },
     "execution_count": 16,
     "metadata": {},
     "output_type": "execute_result"
    }
   ],
   "source": [
    "best_parameters = cv_grid.best_estimator_.get_params()\n",
    "best_parameters"
   ]
  },
  {
   "cell_type": "code",
   "execution_count": 17,
   "id": "insured-liberia",
   "metadata": {},
   "outputs": [
    {
     "name": "stdout",
     "output_type": "stream",
     "text": [
      "\tlearning_rate: 0.01\n",
      "\tmax_depth: 10\n",
      "\tmin_samples_leaf: 20\n",
      "\tn_estimators: 500\n"
     ]
    }
   ],
   "source": [
    "for param_name in sorted(rf_tuned_parameters.keys()):\n",
    "    print(\"\\t%s: %r\" % (param_name, best_parameters[param_name]))"
   ]
  },
  {
   "cell_type": "code",
   "execution_count": 18,
   "id": "marine-heritage",
   "metadata": {},
   "outputs": [
    {
     "name": "stdout",
     "output_type": "stream",
     "text": [
      "              precision    recall  f1-score   support\n",
      "\n",
      "           0       0.96      0.96      0.96        67\n",
      "           1       0.98      0.98      0.98       121\n",
      "\n",
      "    accuracy                           0.97       188\n",
      "   macro avg       0.97      0.97      0.97       188\n",
      "weighted avg       0.97      0.97      0.97       188\n",
      "\n"
     ]
    }
   ],
   "source": [
    "print(classification_report(y_test,gbc.predict(x_test)))"
   ]
  },
  {
   "cell_type": "code",
   "execution_count": 19,
   "id": "flush-shield",
   "metadata": {},
   "outputs": [
    {
     "name": "stdout",
     "output_type": "stream",
     "text": [
      "              precision    recall  f1-score   support\n",
      "\n",
      "           0       0.92      0.97      0.94        67\n",
      "           1       0.98      0.95      0.97       121\n",
      "\n",
      "    accuracy                           0.96       188\n",
      "   macro avg       0.95      0.96      0.95       188\n",
      "weighted avg       0.96      0.96      0.96       188\n",
      "\n"
     ]
    }
   ],
   "source": [
    "print(classification_report(y_test,cv_grid.predict(x_test)))"
   ]
  },
  {
   "cell_type": "markdown",
   "id": "american-optics",
   "metadata": {},
   "source": [
    "# Random Forest Classifier"
   ]
  },
  {
   "cell_type": "code",
   "execution_count": 20,
   "id": "designing-tamil",
   "metadata": {},
   "outputs": [],
   "source": [
    "rfc=RandomForestClassifier()"
   ]
  },
  {
   "cell_type": "code",
   "execution_count": 21,
   "id": "individual-slave",
   "metadata": {},
   "outputs": [],
   "source": [
    "rf_tuned_parameters = {\"max_depth\": [10,20], 'n_estimators': [50], 'min_samples_leaf': [10]}"
   ]
  },
  {
   "cell_type": "code",
   "execution_count": 22,
   "id": "tight-destiny",
   "metadata": {},
   "outputs": [
    {
     "name": "stdout",
     "output_type": "stream",
     "text": [
      "Fitting 5 folds for each of 2 candidates, totalling 10 fits\n",
      "[CV 1/5] END max_depth=10, min_samples_leaf=10, n_estimators=50; total time=   0.1s\n",
      "[CV 2/5] END max_depth=10, min_samples_leaf=10, n_estimators=50; total time=   0.1s\n",
      "[CV 3/5] END max_depth=10, min_samples_leaf=10, n_estimators=50; total time=   0.1s\n",
      "[CV 4/5] END max_depth=10, min_samples_leaf=10, n_estimators=50; total time=   0.1s\n",
      "[CV 5/5] END max_depth=10, min_samples_leaf=10, n_estimators=50; total time=   0.1s\n",
      "[CV 1/5] END max_depth=20, min_samples_leaf=10, n_estimators=50; total time=   0.1s\n",
      "[CV 2/5] END max_depth=20, min_samples_leaf=10, n_estimators=50; total time=   0.1s\n",
      "[CV 3/5] END max_depth=20, min_samples_leaf=10, n_estimators=50; total time=   0.1s\n",
      "[CV 4/5] END max_depth=20, min_samples_leaf=10, n_estimators=50; total time=   0.1s\n",
      "[CV 5/5] END max_depth=20, min_samples_leaf=10, n_estimators=50; total time=   0.1s\n"
     ]
    },
    {
     "data": {
      "text/plain": [
       "GridSearchCV(estimator=RandomForestClassifier(),\n",
       "             param_grid={'max_depth': [10, 20], 'min_samples_leaf': [10],\n",
       "                         'n_estimators': [50]},\n",
       "             scoring='roc_auc', verbose=5)"
      ]
     },
     "execution_count": 22,
     "metadata": {},
     "output_type": "execute_result"
    }
   ],
   "source": [
    "cv_grid = GridSearchCV(rfc, param_grid = rf_tuned_parameters, scoring = 'roc_auc', verbose = 5)\n",
    "cv_grid.fit(x_train, y_train)"
   ]
  },
  {
   "cell_type": "code",
   "execution_count": 23,
   "id": "square-rhythm",
   "metadata": {},
   "outputs": [
    {
     "data": {
      "text/plain": [
       "{'bootstrap': True,\n",
       " 'ccp_alpha': 0.0,\n",
       " 'class_weight': None,\n",
       " 'criterion': 'gini',\n",
       " 'max_depth': 20,\n",
       " 'max_features': 'auto',\n",
       " 'max_leaf_nodes': None,\n",
       " 'max_samples': None,\n",
       " 'min_impurity_decrease': 0.0,\n",
       " 'min_impurity_split': None,\n",
       " 'min_samples_leaf': 10,\n",
       " 'min_samples_split': 2,\n",
       " 'min_weight_fraction_leaf': 0.0,\n",
       " 'n_estimators': 50,\n",
       " 'n_jobs': None,\n",
       " 'oob_score': False,\n",
       " 'random_state': None,\n",
       " 'verbose': 0,\n",
       " 'warm_start': False}"
      ]
     },
     "execution_count": 23,
     "metadata": {},
     "output_type": "execute_result"
    }
   ],
   "source": [
    "best_parameters = cv_grid.best_estimator_.get_params()\n",
    "best_parameters"
   ]
  },
  {
   "cell_type": "code",
   "execution_count": 24,
   "id": "collective-cargo",
   "metadata": {},
   "outputs": [
    {
     "name": "stdout",
     "output_type": "stream",
     "text": [
      "\tmax_depth: 20\n",
      "\tmin_samples_leaf: 10\n",
      "\tn_estimators: 50\n"
     ]
    }
   ],
   "source": [
    "for param_name in sorted(rf_tuned_parameters.keys()):\n",
    "    print(\"\\t%s: %r\" % (param_name, best_parameters[param_name]))"
   ]
  },
  {
   "cell_type": "code",
   "execution_count": 25,
   "id": "present-nickel",
   "metadata": {},
   "outputs": [
    {
     "name": "stdout",
     "output_type": "stream",
     "text": [
      "              precision    recall  f1-score   support\n",
      "\n",
      "           0       0.96      0.96      0.96        67\n",
      "           1       0.98      0.98      0.98       121\n",
      "\n",
      "    accuracy                           0.97       188\n",
      "   macro avg       0.97      0.97      0.97       188\n",
      "weighted avg       0.97      0.97      0.97       188\n",
      "\n"
     ]
    }
   ],
   "source": [
    "print(classification_report(y_test,cv_grid.predict(x_test)))"
   ]
  },
  {
   "cell_type": "code",
   "execution_count": 26,
   "id": "sharing-relevance",
   "metadata": {},
   "outputs": [
    {
     "name": "stdout",
     "output_type": "stream",
     "text": [
      "              precision    recall  f1-score   support\n",
      "\n",
      "           0       0.90      0.97      0.94        67\n",
      "           1       0.98      0.94      0.96       121\n",
      "\n",
      "    accuracy                           0.95       188\n",
      "   macro avg       0.94      0.96      0.95       188\n",
      "weighted avg       0.95      0.95      0.95       188\n",
      "\n"
     ]
    }
   ],
   "source": [
    "rfc.fit(x_train,y_train)\n",
    "print(classification_report(y_test,rfc.predict(x_test)))"
   ]
  },
  {
   "cell_type": "markdown",
   "id": "physical-thirty",
   "metadata": {},
   "source": [
    "# KNN Classifier"
   ]
  },
  {
   "cell_type": "code",
   "execution_count": 27,
   "id": "respective-england",
   "metadata": {},
   "outputs": [
    {
     "name": "stdout",
     "output_type": "stream",
     "text": [
      "              precision    recall  f1-score   support\n",
      "\n",
      "           0       0.97      0.96      0.96        67\n",
      "           1       0.98      0.98      0.98       121\n",
      "\n",
      "    accuracy                           0.97       188\n",
      "   macro avg       0.97      0.97      0.97       188\n",
      "weighted avg       0.97      0.97      0.97       188\n",
      "\n"
     ]
    }
   ],
   "source": [
    "knn = KNeighborsClassifier(n_neighbors=6)\n",
    "knn.fit(x_train,y_train)\n",
    "y_pred=knn.predict(x_test)\n",
    "print(classification_report(y_test,y_pred))"
   ]
  }
 ],
 "metadata": {
  "kernelspec": {
   "display_name": "Python 3",
   "language": "python",
   "name": "python3"
  },
  "language_info": {
   "codemirror_mode": {
    "name": "ipython",
    "version": 3
   },
   "file_extension": ".py",
   "mimetype": "text/x-python",
   "name": "python",
   "nbconvert_exporter": "python",
   "pygments_lexer": "ipython3",
   "version": "3.8.5"
  }
 },
 "nbformat": 4,
 "nbformat_minor": 5
}
